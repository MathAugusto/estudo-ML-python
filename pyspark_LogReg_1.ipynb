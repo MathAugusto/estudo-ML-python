{
  "nbformat": 4,
  "nbformat_minor": 0,
  "metadata": {
    "colab": {
      "name": "pyspark-LogReg-1.ipynb",
      "provenance": [],
      "collapsed_sections": [],
      "authorship_tag": "ABX9TyPz0pJHsCD7sN2LOyFjbuHR"
    },
    "kernelspec": {
      "name": "python3",
      "display_name": "Python 3"
    }
  },
  "cells": [
    {
      "cell_type": "markdown",
      "metadata": {
        "id": "17vsNdPWgJTr"
      },
      "source": [
        "# **PYSPARK - MACHINE LEARNING - LINEAR REGRESSION**"
      ]
    },
    {
      "cell_type": "code",
      "metadata": {
        "id": "NeQF_ng0dwCw"
      },
      "source": [
        "from pyspark.sql import SparkSession"
      ],
      "execution_count": 2,
      "outputs": []
    },
    {
      "cell_type": "code",
      "metadata": {
        "id": "jfAlvkT_dwFZ"
      },
      "source": [
        "spark = SparkSession.builder.appName('linregx').getOrCreate()"
      ],
      "execution_count": 3,
      "outputs": []
    },
    {
      "cell_type": "code",
      "metadata": {
        "id": "ue0w1bGEdvE3"
      },
      "source": [
        "from pyspark.ml.regression import LinearRegression"
      ],
      "execution_count": 4,
      "outputs": []
    },
    {
      "cell_type": "code",
      "metadata": {
        "id": "DU1ljklvdvIi"
      },
      "source": [
        "training = spark.read.format('libsvm').load('sample_linear_regression_data.txt')"
      ],
      "execution_count": 5,
      "outputs": []
    },
    {
      "cell_type": "code",
      "metadata": {
        "colab": {
          "base_uri": "https://localhost:8080/"
        },
        "id": "ID822glzdvOW",
        "outputId": "4f266ee1-79c5-4a65-e533-803887b9d483"
      },
      "source": [
        "# DataFrame\n",
        "training.show()"
      ],
      "execution_count": 6,
      "outputs": [
        {
          "output_type": "stream",
          "text": [
            "+-------------------+--------------------+\n",
            "|              label|            features|\n",
            "+-------------------+--------------------+\n",
            "| -9.490009878824548|(10,[0,1,2,3,4,5,...|\n",
            "| 0.2577820163584905|(10,[0,1,2,3,4,5,...|\n",
            "| -4.438869807456516|(10,[0,1,2,3,4,5,...|\n",
            "|-19.782762789614537|(10,[0,1,2,3,4,5,...|\n",
            "| -7.966593841555266|(10,[0,1,2,3,4,5,...|\n",
            "| -7.896274316726144|(10,[0,1,2,3,4,5,...|\n",
            "| -8.464803554195287|(10,[0,1,2,3,4,5,...|\n",
            "| 2.1214592666251364|(10,[0,1,2,3,4,5,...|\n",
            "| 1.0720117616524107|(10,[0,1,2,3,4,5,...|\n",
            "|-13.772441561702871|(10,[0,1,2,3,4,5,...|\n",
            "| -5.082010756207233|(10,[0,1,2,3,4,5,...|\n",
            "|  7.887786536531237|(10,[0,1,2,3,4,5,...|\n",
            "| 14.323146365332388|(10,[0,1,2,3,4,5,...|\n",
            "|-20.057482615789212|(10,[0,1,2,3,4,5,...|\n",
            "|-0.8995693247765151|(10,[0,1,2,3,4,5,...|\n",
            "| -19.16829262296376|(10,[0,1,2,3,4,5,...|\n",
            "|  5.601801561245534|(10,[0,1,2,3,4,5,...|\n",
            "|-3.2256352187273354|(10,[0,1,2,3,4,5,...|\n",
            "| 1.5299675726687754|(10,[0,1,2,3,4,5,...|\n",
            "| -0.250102447941961|(10,[0,1,2,3,4,5,...|\n",
            "+-------------------+--------------------+\n",
            "only showing top 20 rows\n",
            "\n"
          ],
          "name": "stdout"
        }
      ]
    },
    {
      "cell_type": "code",
      "metadata": {
        "id": "yzkKFeU4dvQY"
      },
      "source": [
        "# Instanciando modelo\n",
        "lr = LinearRegression(featuresCol='features', labelCol='label',\n",
        "                      predictionCol='prediction')"
      ],
      "execution_count": 7,
      "outputs": []
    },
    {
      "cell_type": "code",
      "metadata": {
        "id": "qQ-1qHN-dvTv"
      },
      "source": [
        "# Fit / Treino\n",
        "lrModel = lr.fit(training)"
      ],
      "execution_count": 8,
      "outputs": []
    },
    {
      "cell_type": "code",
      "metadata": {
        "colab": {
          "base_uri": "https://localhost:8080/"
        },
        "id": "OXQcABQmdvVx",
        "outputId": "325e2660-aa02-496c-9efb-ec1335cd0693"
      },
      "source": [
        "# Informações do modelo\n",
        "print(lrModel.coefficients)\n",
        "print(\"\\n\")\n",
        "print(lrModel.intercept)"
      ],
      "execution_count": 9,
      "outputs": [
        {
          "output_type": "stream",
          "text": [
            "[0.0073350710225801715,0.8313757584337543,-0.8095307954684084,2.441191686884721,0.5191713795290003,1.1534591903547016,-0.2989124112808717,-0.5128514186201779,-0.619712827067017,0.6956151804322931]\n",
            "\n",
            "\n",
            "0.14228558260358093\n"
          ],
          "name": "stdout"
        }
      ]
    },
    {
      "cell_type": "code",
      "metadata": {
        "id": "hA7wjmf3dvXb"
      },
      "source": [
        "# Mais informações\n",
        "training_summary = lrModel.summary"
      ],
      "execution_count": 10,
      "outputs": []
    },
    {
      "cell_type": "code",
      "metadata": {
        "colab": {
          "base_uri": "https://localhost:8080/"
        },
        "id": "4Mxv3b37dvY6",
        "outputId": "f4d91245-7bce-4f79-dc84-c5a6aa2b6ae2"
      },
      "source": [
        "# R quadrado\n",
        "training_summary.r2\n"
      ],
      "execution_count": 11,
      "outputs": [
        {
          "output_type": "execute_result",
          "data": {
            "text/plain": [
              "0.027839179518600154"
            ]
          },
          "metadata": {
            "tags": []
          },
          "execution_count": 11
        }
      ]
    },
    {
      "cell_type": "code",
      "metadata": {
        "colab": {
          "base_uri": "https://localhost:8080/"
        },
        "id": "kOQi-fr8dvbc",
        "outputId": "a8e47cc3-96d5-47e5-c643-10679c4f658b"
      },
      "source": [
        "# Raiz quadrada do erro-médio\n",
        "training_summary.rootMeanSquaredError"
      ],
      "execution_count": 12,
      "outputs": [
        {
          "output_type": "execute_result",
          "data": {
            "text/plain": [
              "10.16309157133015"
            ]
          },
          "metadata": {
            "tags": []
          },
          "execution_count": 12
        }
      ]
    },
    {
      "cell_type": "markdown",
      "metadata": {
        "id": "gKEbv7CnjlzN"
      },
      "source": [
        "# **DIVIDINDO EM TREINO E TESTE**"
      ]
    },
    {
      "cell_type": "code",
      "metadata": {
        "id": "iCDKlv7UdveS"
      },
      "source": [
        "# DataFrame\n",
        "all_data = spark.read.format('libsvm').load('sample_linear_regression_data.txt')"
      ],
      "execution_count": 13,
      "outputs": []
    },
    {
      "cell_type": "code",
      "metadata": {
        "id": "K5fdkh4Rjbyw"
      },
      "source": [
        "# Criando variáveis para receber treino e teste\n",
        "train_data, test_data = all_data.randomSplit([0.7,0.3])"
      ],
      "execution_count": 14,
      "outputs": []
    },
    {
      "cell_type": "code",
      "metadata": {
        "colab": {
          "base_uri": "https://localhost:8080/"
        },
        "id": "vLHB-O4Zjb1T",
        "outputId": "0a165dc5-ee8a-4537-e292-c1a80145a912"
      },
      "source": [
        "train_data.describe().show()"
      ],
      "execution_count": 15,
      "outputs": [
        {
          "output_type": "stream",
          "text": [
            "+-------+-------------------+\n",
            "|summary|              label|\n",
            "+-------+-------------------+\n",
            "|  count|                361|\n",
            "|   mean|0.09128332358952235|\n",
            "| stddev|  9.819739287200976|\n",
            "|    min|-28.046018037776633|\n",
            "|    max|  23.52945433069272|\n",
            "+-------+-------------------+\n",
            "\n"
          ],
          "name": "stdout"
        }
      ]
    },
    {
      "cell_type": "code",
      "metadata": {
        "colab": {
          "base_uri": "https://localhost:8080/"
        },
        "id": "eyIyTQYWjb31",
        "outputId": "8a8927e0-29f5-4ed0-a7dd-6234a924bf8e"
      },
      "source": [
        "test_data.describe().show()"
      ],
      "execution_count": 16,
      "outputs": [
        {
          "output_type": "stream",
          "text": [
            "+-------+-------------------+\n",
            "|summary|              label|\n",
            "+-------+-------------------+\n",
            "|  count|                140|\n",
            "|   mean| 0.6839144293133692|\n",
            "| stddev| 11.530414937939513|\n",
            "|    min|-28.571478869743427|\n",
            "|    max|  27.78383192005107|\n",
            "+-------+-------------------+\n",
            "\n"
          ],
          "name": "stdout"
        }
      ]
    },
    {
      "cell_type": "code",
      "metadata": {
        "id": "XPHVAUZBjb6t"
      },
      "source": [
        "# SET DE TREINO\n",
        "correct_model = lr.fit(train_data)"
      ],
      "execution_count": 17,
      "outputs": []
    },
    {
      "cell_type": "code",
      "metadata": {
        "id": "pGIwmsXpjb83"
      },
      "source": [
        "# SET DE TESTE\n",
        "test_results = correct_model.evaluate(test_data)"
      ],
      "execution_count": 18,
      "outputs": []
    },
    {
      "cell_type": "code",
      "metadata": {
        "colab": {
          "base_uri": "https://localhost:8080/"
        },
        "id": "j7qVci8sdviZ",
        "outputId": "f8b914bc-d4d9-48ca-9ed3-386e4fa1e29a"
      },
      "source": [
        "# RESIDUOS:\n",
        "# Entre o que o modelo esperava e os rótulos que realmente conheciam os dados\n",
        "test_results.residuals.show()"
      ],
      "execution_count": 19,
      "outputs": [
        {
          "output_type": "stream",
          "text": [
            "+-------------------+\n",
            "|          residuals|\n",
            "+-------------------+\n",
            "|-26.782411307688847|\n",
            "| -21.18686760618341|\n",
            "|-26.317945862382633|\n",
            "|-20.215923749578998|\n",
            "| -22.48989888135053|\n",
            "|-19.931089383270944|\n",
            "|  -20.5272369438829|\n",
            "| -20.56813687229521|\n",
            "|-18.355539024494927|\n",
            "|-15.389791944300383|\n",
            "|-17.269485226439905|\n",
            "| -15.92946007109294|\n",
            "|  -16.9666867410122|\n",
            "|-14.139576237293682|\n",
            "|   -9.8960838162552|\n",
            "|-13.179342616791049|\n",
            "|-12.013772533006987|\n",
            "|-11.287622076654413|\n",
            "|-11.454345893108407|\n",
            "|-7.3996052991462395|\n",
            "+-------------------+\n",
            "only showing top 20 rows\n",
            "\n"
          ],
          "name": "stdout"
        }
      ]
    },
    {
      "cell_type": "code",
      "metadata": {
        "colab": {
          "base_uri": "https://localhost:8080/"
        },
        "id": "gwaNNOx2BNo8",
        "outputId": "a2200f21-6076-4f40-de20-738da9e5bcc2"
      },
      "source": [
        "test_results.rootMeanSquaredError"
      ],
      "execution_count": 20,
      "outputs": [
        {
          "output_type": "execute_result",
          "data": {
            "text/plain": [
              "11.478916875051265"
            ]
          },
          "metadata": {
            "tags": []
          },
          "execution_count": 20
        }
      ]
    },
    {
      "cell_type": "code",
      "metadata": {
        "id": "KJsSWyoOS_cL"
      },
      "source": [
        "unlabeled_data = test_data.select('features')"
      ],
      "execution_count": 21,
      "outputs": []
    },
    {
      "cell_type": "code",
      "metadata": {
        "colab": {
          "base_uri": "https://localhost:8080/"
        },
        "id": "qtEU5iiwTGbE",
        "outputId": "47736846-2a9b-4142-e831-ab6d3543c195"
      },
      "source": [
        "unlabeled_data.show()"
      ],
      "execution_count": 22,
      "outputs": [
        {
          "output_type": "stream",
          "text": [
            "+--------------------+\n",
            "|            features|\n",
            "+--------------------+\n",
            "|(10,[0,1,2,3,4,5,...|\n",
            "|(10,[0,1,2,3,4,5,...|\n",
            "|(10,[0,1,2,3,4,5,...|\n",
            "|(10,[0,1,2,3,4,5,...|\n",
            "|(10,[0,1,2,3,4,5,...|\n",
            "|(10,[0,1,2,3,4,5,...|\n",
            "|(10,[0,1,2,3,4,5,...|\n",
            "|(10,[0,1,2,3,4,5,...|\n",
            "|(10,[0,1,2,3,4,5,...|\n",
            "|(10,[0,1,2,3,4,5,...|\n",
            "|(10,[0,1,2,3,4,5,...|\n",
            "|(10,[0,1,2,3,4,5,...|\n",
            "|(10,[0,1,2,3,4,5,...|\n",
            "|(10,[0,1,2,3,4,5,...|\n",
            "|(10,[0,1,2,3,4,5,...|\n",
            "|(10,[0,1,2,3,4,5,...|\n",
            "|(10,[0,1,2,3,4,5,...|\n",
            "|(10,[0,1,2,3,4,5,...|\n",
            "|(10,[0,1,2,3,4,5,...|\n",
            "|(10,[0,1,2,3,4,5,...|\n",
            "+--------------------+\n",
            "only showing top 20 rows\n",
            "\n"
          ],
          "name": "stdout"
        }
      ]
    },
    {
      "cell_type": "code",
      "metadata": {
        "id": "0s0XJkXDTGed"
      },
      "source": [
        "predictions = correct_model.transform(unlabeled_data)"
      ],
      "execution_count": 23,
      "outputs": []
    },
    {
      "cell_type": "code",
      "metadata": {
        "colab": {
          "base_uri": "https://localhost:8080/"
        },
        "id": "-09lKE1OTT8p",
        "outputId": "5ab1e2a3-0139-4085-9ad0-b9d7c53983f6"
      },
      "source": [
        "predictions.show()"
      ],
      "execution_count": 24,
      "outputs": [
        {
          "output_type": "stream",
          "text": [
            "+--------------------+--------------------+\n",
            "|            features|          prediction|\n",
            "+--------------------+--------------------+\n",
            "|(10,[0,1,2,3,4,5,...| -1.7890675620545782|\n",
            "|(10,[0,1,2,3,4,5,...| -2.3005725147531044|\n",
            "|(10,[0,1,2,3,4,5,...|    3.36811992618656|\n",
            "|(10,[0,1,2,3,4,5,...|  -2.621536667340343|\n",
            "|(10,[0,1,2,3,4,5,...|  2.2778216223918593|\n",
            "|(10,[0,1,2,3,4,5,...| -0.1263932325182687|\n",
            "|(10,[0,1,2,3,4,5,...|   0.642676169609477|\n",
            "|(10,[0,1,2,3,4,5,...|   1.165800842080658|\n",
            "|(10,[0,1,2,3,4,5,...| 0.08032545849029657|\n",
            "|(10,[0,1,2,3,4,5,...| -2.1044084125829614|\n",
            "|(10,[0,1,2,3,4,5,...|-0.05723550623604...|\n",
            "|(10,[0,1,2,3,4,5,...| -0.7896367625121483|\n",
            "|(10,[0,1,2,3,4,5,...|  0.8153373897350894|\n",
            "|(10,[0,1,2,3,4,5,...| -1.2978085561375359|\n",
            "|(10,[0,1,2,3,4,5,...| -2.8771431829959977|\n",
            "|(10,[0,1,2,3,4,5,...|  0.6785688314359944|\n",
            "|(10,[0,1,2,3,4,5,...|-0.46550767844451024|\n",
            "|(10,[0,1,2,3,4,5,...| -1.1800343043784474|\n",
            "|(10,[0,1,2,3,4,5,...| -0.4506410095667066|\n",
            "|(10,[0,1,2,3,4,5,...| -4.2409443787425865|\n",
            "+--------------------+--------------------+\n",
            "only showing top 20 rows\n",
            "\n"
          ],
          "name": "stdout"
        }
      ]
    }
  ]
}